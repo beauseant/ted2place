{
 "cells": [
  {
   "cell_type": "code",
   "execution_count": 1,
   "id": "38d96297",
   "metadata": {},
   "outputs": [],
   "source": [
    "import glob\n",
    "\n",
    "import sys\n",
    "sys.path.append('/export/usuarios_ml4ds/sblanco/readTEDXML/pySpark/lib')\n",
    "from utils import openTarFile\n",
    "from utils import TranslateMachine\n",
    "\n",
    "from pyspark.sql import Row\n"
   ]
  },
  {
   "cell_type": "code",
   "execution_count": 2,
   "id": "9296419f-0aa7-43e7-a978-9f3aeaa36a3f",
   "metadata": {},
   "outputs": [
    {
     "name": "stderr",
     "output_type": "stream",
     "text": [
      "                                                                                \r"
     ]
    },
    {
     "data": {
      "text/plain": [
       "[('Java', '20000'), ('Python', '100000'), ('Scala', '3000')]"
      ]
     },
     "execution_count": 2,
     "metadata": {},
     "output_type": "execute_result"
    }
   ],
   "source": [
    "columns = [\"language\",\"users_count\"]\n",
    "data = [(\"Java\", \"20000\"), (\"Python\", \"100000\"), (\"Scala\", \"3000\")]\n",
    "spark = SparkSession.builder.appName('SparkByExamples.com').getOrCreate()\n",
    "rdd = spark.sparkContext.parallelize(data)\n",
    "\n",
    "rdd.collect()"
   ]
  },
  {
   "cell_type": "code",
   "execution_count": null,
   "id": "86dafa07",
   "metadata": {},
   "outputs": [],
   "source": [
    "year = 2018\n",
    "path ='///export/data_ml4ds/IntelComp/Datasets/ted/xmls/'\n",
    "filePattern = path + '*' + str(year) + '*.tar.gz'\n",
    "\n",
    "totalResult = []\n",
    "tm = TranslateMachine ( 'place' )\n",
    "\n",
    "#Procesamos todos los formularios que empiecen por F\n",
    "validForm = ['F']\n",
    "\n",
    "for file in glob.glob( filePattern )[:1]:\n",
    "    print (file)\n",
    "    dataFile = openTarFile (file)\n",
    "    print ('Filtrando formularios, en el original hay %s datos' % len(dataFile))\n",
    "    dataFile = list(filter (lambda d: list (d['TED_EXPORT']['FORM_SECTION'].keys())[0][:1] in validForm, dataFile))\n",
    "    print ('nos quedamos con %s datos' % len (dataFile))\n",
    "    print ('convirtiendo datos')\n",
    "    totalResult += [tm.translateKeys (data) for data in dataFile]\n",
    "\n",
    "\n",
    "\n",
    "\n"
   ]
  },
  {
   "cell_type": "code",
   "execution_count": null,
   "id": "2ed9098e-a38d-4eb0-8a19-e3b1738ea4be",
   "metadata": {},
   "outputs": [],
   "source": [
    "c"
   ]
  },
  {
   "cell_type": "code",
   "execution_count": 3,
   "id": "b9b87842-504c-4ab6-9bf4-6e08bd151091",
   "metadata": {},
   "outputs": [
    {
     "name": "stdout",
     "output_type": "stream",
     "text": [
      "///export/data_ml4ds/IntelComp/Datasets/ted/pruebas/test.tgz\n",
      "Filtrando formularios, en el original hay 897 datos\n",
      "nos quedamos con 801 datos\n",
      "convirtiendo datos\n"
     ]
    }
   ],
   "source": [
    "\n",
    "year=1945\n",
    "files =['///export/data_ml4ds/IntelComp/Datasets/ted/pruebas/test.tgz']\n",
    "validForm = ['F']\n",
    "totalResult = []\n",
    "tm = TranslateMachine ('place')\n",
    "\n",
    "for file in files:\n",
    "    print (file)\n",
    "    dataFile = openTarFile (file)\n",
    "    print ('Filtrando formularios, en el original hay %s datos' % len(dataFile))\n",
    "    dataFile = list(filter (lambda d: list (d['TED_EXPORT']['FORM_SECTION'].keys())[0][:1] in validForm, dataFile))\n",
    "    print ('nos quedamos con %s datos' % len (dataFile))\n",
    "    print ('convirtiendo datos')\n",
    "    totalResult += [tm.translateKeys (data) for data in dataFile]\n",
    "\n"
   ]
  },
  {
   "cell_type": "code",
   "execution_count": 7,
   "id": "afd60d8c-b9ee-4276-a940-9b3d0c693a0e",
   "metadata": {},
   "outputs": [
    {
     "data": {
      "text/plain": [
       "{'Ted_year': '2022',\n",
       " 'Ted_doc_id': '145894-2022',\n",
       " 'Ted_form_id': 'F02_2014',\n",
       " 'Ted_reception_id': '22-146770-001',\n",
       " 'PublicacionesOficiales': {'Fecha de envio de anuncio al diario oficial': '20220321',\n",
       "  'Fecha de Publicación': '20220316'},\n",
       " 'EntidadAdjudicadora': {'URL perfil de contratante': 'http://www.sspa.juntadeandalucia.es/contratacion',\n",
       "  'Sitio web': 'http://www.sspa.juntadeandalucia.es/servicioandaluzdesalud',\n",
       "  'Ubicacion organica': [{'value': 'ES617', 'text': 'ES617'}],\n",
       "  'Tipo de administracion': {'text': 'Regional or local authority',\n",
       "   'value': '3'},\n",
       "  'Actividad': [{'text': 'Health', 'value': 'H'}]},\n",
       " 'DatosGeneralesDelExpediente': {'Clasificacion CPV': [{'value': '33141000',\n",
       "    'text': 'Disposable non-chemical medical consumables and haematological consumables'}],\n",
       "  'Valor estimado del contrato': OrderedDict([('VALUE',\n",
       "                OrderedDict([('@TYPE', 'ESTIMATED_TOTAL'),\n",
       "                             ('@CURRENCY', 'EUR'),\n",
       "                             ('#text', '7409084.17')]))]),\n",
       "  'Pliego de clausulas administrativas': {'text': 'European Union, with participation by GPA countries',\n",
       "   'value': '5'},\n",
       "  'Tipo de contrato': {'text': 'Contract notice', 'value': '3'},\n",
       "  'Objeto del contrato': {'text': 'Supplies', 'value': '2'}},\n",
       " 'LugarDeEjecucion': {'Pais': 'ES'},\n",
       " 'CriterioDeAdjudicacion': {'Descripcion': {'text': 'The most economic tender',\n",
       "   'value': '2'}},\n",
       " 'ProcesoDeLicitacion': {'Descripcion': {'text': 'Submission for all lots',\n",
       "   'value': '1'},\n",
       "  'Tramitacion': {'text': 'Open procedure', 'value': '1'}},\n",
       " 'PlazoDePresentacionDeOferta': {'Fecha': '20220425 15:00'},\n",
       " 'PlazoDePresentacionDeSolicitudes': {'Fecha': '20220425 15:00'}}"
      ]
     },
     "execution_count": 7,
     "metadata": {},
     "output_type": "execute_result"
    }
   ],
   "source": [
    "\n",
    "totalResult[300]"
   ]
  },
  {
   "cell_type": "code",
   "execution_count": 5,
   "id": "ad946533",
   "metadata": {},
   "outputs": [],
   "source": [
    "from pyspark.sql import Row\n",
    "\n",
    "df = spark.createDataFrame(totalResult)\n",
    "\n",
    "\n"
   ]
  },
  {
   "cell_type": "code",
   "execution_count": 6,
   "id": "e7d9dbb7",
   "metadata": {},
   "outputs": [
    {
     "name": "stdout",
     "output_type": "stream",
     "text": [
      "/export/ml4ds/teddata/temporal/1945\n"
     ]
    },
    {
     "name": "stderr",
     "output_type": "stream",
     "text": [
      "                                                                                \r"
     ]
    }
   ],
   "source": [
    "savePath = '/export/ml4ds/teddata/temporal/' + str(year)\n",
    "print (savePath)\n",
    "\n",
    "\n",
    "df.write.mode(\"overwrite\").parquet (savePath)"
   ]
  },
  {
   "cell_type": "code",
   "execution_count": null,
   "id": "4cae9a5c-27f6-4922-83e3-bcf0b0a47745",
   "metadata": {},
   "outputs": [],
   "source": [
    "len(totalResult)"
   ]
  },
  {
   "cell_type": "code",
   "execution_count": null,
   "id": "4e363f95-f978-4b81-bfee-e3bc4db90137",
   "metadata": {},
   "outputs": [],
   "source": [
    "df.count()"
   ]
  }
 ],
 "metadata": {
  "kernelspec": {
   "display_name": "Python 3 (ipykernel)",
   "language": "python",
   "name": "python3"
  },
  "language_info": {
   "codemirror_mode": {
    "name": "ipython",
    "version": 3
   },
   "file_extension": ".py",
   "mimetype": "text/x-python",
   "name": "python",
   "nbconvert_exporter": "python",
   "pygments_lexer": "ipython3",
   "version": "3.8.13"
  }
 },
 "nbformat": 4,
 "nbformat_minor": 5
}
